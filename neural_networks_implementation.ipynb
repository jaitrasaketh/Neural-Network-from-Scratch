{
  "metadata": {
    "kernelspec": {
      "language": "python",
      "display_name": "Python 3",
      "name": "python3"
    },
    "language_info": {
      "name": "python",
      "version": "3.10.14",
      "mimetype": "text/x-python",
      "codemirror_mode": {
        "name": "ipython",
        "version": 3
      },
      "pygments_lexer": "ipython3",
      "nbconvert_exporter": "python",
      "file_extension": ".py"
    },
    "kaggle": {
      "accelerator": "none",
      "dataSources": [
        {
          "sourceId": 3004,
          "databundleVersionId": 861823,
          "sourceType": "competition"
        }
      ],
      "dockerImageVersionId": 30786,
      "isInternetEnabled": false,
      "language": "python",
      "sourceType": "notebook",
      "isGpuEnabled": false
    },
    "colab": {
      "name": "neural networks implementation",
      "provenance": [],
      "include_colab_link": true
    }
  },
  "nbformat_minor": 0,
  "nbformat": 4,
  "cells": [
    {
      "cell_type": "markdown",
      "metadata": {
        "id": "view-in-github",
        "colab_type": "text"
      },
      "source": [
        "<a href=\"https://colab.research.google.com/github/jaitrasaketh/Neural-Network-from-Scratch/blob/main/neural_networks_implementation.ipynb\" target=\"_parent\"><img src=\"https://colab.research.google.com/assets/colab-badge.svg\" alt=\"Open In Colab\"/></a>"
      ]
    },
    {
      "source": [
        "\n",
        "# IMPORTANT: RUN THIS CELL IN ORDER TO IMPORT YOUR KAGGLE DATA SOURCES\n",
        "# TO THE CORRECT LOCATION (/kaggle/input) IN YOUR NOTEBOOK,\n",
        "# THEN FEEL FREE TO DELETE THIS CELL.\n",
        "# NOTE: THIS NOTEBOOK ENVIRONMENT DIFFERS FROM KAGGLE'S PYTHON\n",
        "# ENVIRONMENT SO THERE MAY BE MISSING LIBRARIES USED BY YOUR\n",
        "# NOTEBOOK.\n",
        "\n",
        "import os\n",
        "import sys\n",
        "from tempfile import NamedTemporaryFile\n",
        "from urllib.request import urlopen\n",
        "from urllib.parse import unquote, urlparse\n",
        "from urllib.error import HTTPError\n",
        "from zipfile import ZipFile\n",
        "import tarfile\n",
        "import shutil\n",
        "\n",
        "CHUNK_SIZE = 40960\n",
        "DATA_SOURCE_MAPPING = 'digit-recognizer:https%3A%2F%2Fstorage.googleapis.com%2Fkaggle-competitions-data%2Fkaggle-v2%2F3004%2F861823%2Fbundle%2Farchive.zip%3FX-Goog-Algorithm%3DGOOG4-RSA-SHA256%26X-Goog-Credential%3Dgcp-kaggle-com%2540kaggle-161607.iam.gserviceaccount.com%252F20241014%252Fauto%252Fstorage%252Fgoog4_request%26X-Goog-Date%3D20241014T124113Z%26X-Goog-Expires%3D259200%26X-Goog-SignedHeaders%3Dhost%26X-Goog-Signature%3D66a6b376baf713d1dcabbe52063f6eb3f2ade890c948e51bc52f7dede21ef6689be208c704465551e866860faabd4deef94c24eef06ddf2d248dc4f6480d3bc7905cef4bc3578dffeb8972960103d0cf182832104ec334d9e609e1544d62a3ee71f04037e59fa944d2d1d9dc0a494ee562d3c71e301fd5edb174dfe105f19711acac0394f9ebb4460cae0d59bb7f23948bb19bc829923e759fb998823faca07b0bada5841d06560b6eef5fc95a8441200ad8c46aa9f71a0acb0a38c740b5400c7858c0b7575279688a06818365f57b07767900c34384e796d44e7e62d441446fc2db74da2b28cfe9aa356ae963140d1d4aad00ec7dd32800629b8d181e8cb1de'\n",
        "\n",
        "KAGGLE_INPUT_PATH='/kaggle/input'\n",
        "KAGGLE_WORKING_PATH='/kaggle/working'\n",
        "KAGGLE_SYMLINK='kaggle'\n",
        "\n",
        "!umount /kaggle/input/ 2> /dev/null\n",
        "shutil.rmtree('/kaggle/input', ignore_errors=True)\n",
        "os.makedirs(KAGGLE_INPUT_PATH, 0o777, exist_ok=True)\n",
        "os.makedirs(KAGGLE_WORKING_PATH, 0o777, exist_ok=True)\n",
        "\n",
        "try:\n",
        "  os.symlink(KAGGLE_INPUT_PATH, os.path.join(\"..\", 'input'), target_is_directory=True)\n",
        "except FileExistsError:\n",
        "  pass\n",
        "try:\n",
        "  os.symlink(KAGGLE_WORKING_PATH, os.path.join(\"..\", 'working'), target_is_directory=True)\n",
        "except FileExistsError:\n",
        "  pass\n",
        "\n",
        "for data_source_mapping in DATA_SOURCE_MAPPING.split(','):\n",
        "    directory, download_url_encoded = data_source_mapping.split(':')\n",
        "    download_url = unquote(download_url_encoded)\n",
        "    filename = urlparse(download_url).path\n",
        "    destination_path = os.path.join(KAGGLE_INPUT_PATH, directory)\n",
        "    try:\n",
        "        with urlopen(download_url) as fileres, NamedTemporaryFile() as tfile:\n",
        "            total_length = fileres.headers['content-length']\n",
        "            print(f'Downloading {directory}, {total_length} bytes compressed')\n",
        "            dl = 0\n",
        "            data = fileres.read(CHUNK_SIZE)\n",
        "            while len(data) > 0:\n",
        "                dl += len(data)\n",
        "                tfile.write(data)\n",
        "                done = int(50 * dl / int(total_length))\n",
        "                sys.stdout.write(f\"\\r[{'=' * done}{' ' * (50-done)}] {dl} bytes downloaded\")\n",
        "                sys.stdout.flush()\n",
        "                data = fileres.read(CHUNK_SIZE)\n",
        "            if filename.endswith('.zip'):\n",
        "              with ZipFile(tfile) as zfile:\n",
        "                zfile.extractall(destination_path)\n",
        "            else:\n",
        "              with tarfile.open(tfile.name) as tarfile:\n",
        "                tarfile.extractall(destination_path)\n",
        "            print(f'\\nDownloaded and uncompressed: {directory}')\n",
        "    except HTTPError as e:\n",
        "        print(f'Failed to load (likely expired) {download_url} to path {destination_path}')\n",
        "        continue\n",
        "    except OSError as e:\n",
        "        print(f'Failed to load {download_url} to path {destination_path}')\n",
        "        continue\n",
        "\n",
        "print('Data source import complete.')\n"
      ],
      "metadata": {
        "id": "lmnSddgSDWzC"
      },
      "cell_type": "code",
      "outputs": [],
      "execution_count": null
    },
    {
      "cell_type": "code",
      "source": [
        "# This Python 3 environment comes with many helpful analytics libraries installed\n",
        "# It is defined by the kaggle/python Docker image: https://github.com/kaggle/docker-python\n",
        "# For example, here's several helpful packages to load\n",
        "\n",
        "import numpy as np # linear algebra\n",
        "import pandas as pd # data processing, CSV file I/O (e.g. pd.read_csv)\n",
        "\n",
        "# Input data files are available in the read-only \"../input/\" directory\n",
        "# For example, running this (by clicking run or pressing Shift+Enter) will list all files under the input directory\n",
        "\n",
        "import os\n",
        "for dirname, _, filenames in os.walk('/kaggle/input'):\n",
        "    for filename in filenames:\n",
        "        print(os.path.join(dirname, filename))\n",
        "\n",
        "# You can write up to 20GB to the current directory (/kaggle/working/) that gets preserved as output when you create a version using \"Save & Run All\"\n",
        "# You can also write temporary files to /kaggle/temp/, but they won't be saved outside of the current session"
      ],
      "metadata": {
        "_uuid": "8f2839f25d086af736a60e9eeb907d3b93b6e0e5",
        "_cell_guid": "b1076dfc-b9ad-4769-8c92-a6c4dae69d19",
        "execution": {
          "iopub.status.busy": "2024-10-14T12:25:58.65244Z",
          "iopub.execute_input": "2024-10-14T12:25:58.652897Z",
          "iopub.status.idle": "2024-10-14T12:25:58.664307Z",
          "shell.execute_reply.started": "2024-10-14T12:25:58.652852Z",
          "shell.execute_reply": "2024-10-14T12:25:58.663035Z"
        },
        "trusted": true,
        "id": "roZWJTZFDWzE"
      },
      "execution_count": null,
      "outputs": []
    },
    {
      "cell_type": "code",
      "source": [
        "import numpy as np\n",
        "import pandas as pd\n",
        "from matplotlib import pyplot as plt"
      ],
      "metadata": {
        "execution": {
          "iopub.status.busy": "2024-10-14T12:25:58.66665Z",
          "iopub.execute_input": "2024-10-14T12:25:58.667119Z",
          "iopub.status.idle": "2024-10-14T12:25:58.678654Z",
          "shell.execute_reply.started": "2024-10-14T12:25:58.667076Z",
          "shell.execute_reply": "2024-10-14T12:25:58.677353Z"
        },
        "trusted": true,
        "id": "ZA83L55tDWzF"
      },
      "execution_count": null,
      "outputs": []
    },
    {
      "cell_type": "code",
      "source": [
        "data=pd.read_csv('/kaggle/input/digit-recognizer/train.csv')\n",
        "data.head()\n"
      ],
      "metadata": {
        "execution": {
          "iopub.status.busy": "2024-10-14T12:25:58.683178Z",
          "iopub.execute_input": "2024-10-14T12:25:58.683761Z",
          "iopub.status.idle": "2024-10-14T12:26:01.952012Z",
          "shell.execute_reply.started": "2024-10-14T12:25:58.683613Z",
          "shell.execute_reply": "2024-10-14T12:26:01.950653Z"
        },
        "trusted": true,
        "id": "WQVsYm3vDWzF"
      },
      "execution_count": null,
      "outputs": []
    },
    {
      "cell_type": "code",
      "source": [
        "data.shape"
      ],
      "metadata": {
        "execution": {
          "iopub.status.busy": "2024-10-14T12:26:01.954774Z",
          "iopub.execute_input": "2024-10-14T12:26:01.955204Z",
          "iopub.status.idle": "2024-10-14T12:26:01.963369Z",
          "shell.execute_reply.started": "2024-10-14T12:26:01.955159Z",
          "shell.execute_reply": "2024-10-14T12:26:01.962102Z"
        },
        "trusted": true,
        "id": "BlhN0dbIDWzF"
      },
      "execution_count": null,
      "outputs": []
    },
    {
      "cell_type": "code",
      "source": [
        "data=np.array(data)\n",
        "\n",
        "m, n= data.shape\n",
        "\n",
        "\n",
        "np.random.shuffle(data)\n",
        "\n",
        "\n",
        "\n",
        "data_valid=data[0:1000].T\n",
        "Y_valid=data_valid[0]\n",
        "X_valid=data_valid[1:n]\n",
        "\n",
        "\n",
        "data_train=data[1000:m].T\n",
        "Y_train=data_train[0]\n",
        "X_train=data_train[1:n]"
      ],
      "metadata": {
        "execution": {
          "iopub.status.busy": "2024-10-14T12:26:01.965019Z",
          "iopub.execute_input": "2024-10-14T12:26:01.965531Z",
          "iopub.status.idle": "2024-10-14T12:26:02.711993Z",
          "shell.execute_reply.started": "2024-10-14T12:26:01.96547Z",
          "shell.execute_reply": "2024-10-14T12:26:02.710714Z"
        },
        "trusted": true,
        "id": "avw2xSbUDWzF"
      },
      "execution_count": null,
      "outputs": []
    },
    {
      "cell_type": "code",
      "source": [
        "def init_params():\n",
        "    W1=np.random.rand(10,784)\n",
        "    b1=np.random.rand(10,1)\n",
        "    W2=np.random.rand(10,10)\n",
        "    b2=np.random.rand(10,1)\n",
        "    return W1,b1,W2,b2"
      ],
      "metadata": {
        "execution": {
          "iopub.status.busy": "2024-10-14T12:26:02.713586Z",
          "iopub.execute_input": "2024-10-14T12:26:02.713998Z",
          "iopub.status.idle": "2024-10-14T12:26:02.721407Z",
          "shell.execute_reply.started": "2024-10-14T12:26:02.713928Z",
          "shell.execute_reply": "2024-10-14T12:26:02.720048Z"
        },
        "trusted": true,
        "id": "PPSd1FxPDWzG"
      },
      "execution_count": null,
      "outputs": []
    },
    {
      "cell_type": "code",
      "source": [
        "def ReLU(Z):\n",
        "    return np.maximum(0,Z)\n",
        "\n",
        "def softmax(Z):\n",
        "    return np.exp(Z)/np.sum(np.exp(Z))"
      ],
      "metadata": {
        "execution": {
          "iopub.status.busy": "2024-10-14T12:26:02.722975Z",
          "iopub.execute_input": "2024-10-14T12:26:02.723375Z",
          "iopub.status.idle": "2024-10-14T12:26:02.735209Z",
          "shell.execute_reply.started": "2024-10-14T12:26:02.72333Z",
          "shell.execute_reply": "2024-10-14T12:26:02.733776Z"
        },
        "trusted": true,
        "id": "iRN0NgK-DWzG"
      },
      "execution_count": null,
      "outputs": []
    },
    {
      "cell_type": "code",
      "source": [
        "def forward_propagation(W1,X,b1,W2,b2):\n",
        "    Z1=W1.dot(X)+b1\n",
        "    A1=ReLU(Z1)\n",
        "    Z2=W2.dot(A1)+b2\n",
        "    A2=softmax(Z2)\n",
        "\n",
        "    return Z1,A1,Z2,A2\n",
        "\n",
        ""
      ],
      "metadata": {
        "execution": {
          "iopub.status.busy": "2024-10-14T12:26:02.736908Z",
          "iopub.execute_input": "2024-10-14T12:26:02.737382Z",
          "iopub.status.idle": "2024-10-14T12:26:02.747864Z",
          "shell.execute_reply.started": "2024-10-14T12:26:02.737337Z",
          "shell.execute_reply": "2024-10-14T12:26:02.746656Z"
        },
        "trusted": true,
        "id": "lQDAOmBpDWzG"
      },
      "execution_count": null,
      "outputs": []
    },
    {
      "cell_type": "code",
      "source": [
        "def one_hot_encoding(Y):\n",
        "    one_hot_Y=np.zeros((Y.size,Y.max()+1))\n",
        "    one_hot_Y[np.arange(Y.size),Y]=1\n",
        "    one_hot_Y=one_hot_Y.T\n",
        "    return one_hot_Y"
      ],
      "metadata": {
        "execution": {
          "iopub.status.busy": "2024-10-14T12:26:02.749775Z",
          "iopub.execute_input": "2024-10-14T12:26:02.750595Z",
          "iopub.status.idle": "2024-10-14T12:26:02.759085Z",
          "shell.execute_reply.started": "2024-10-14T12:26:02.75054Z",
          "shell.execute_reply": "2024-10-14T12:26:02.757955Z"
        },
        "trusted": true,
        "id": "NysqJmBHDWzG"
      },
      "execution_count": null,
      "outputs": []
    },
    {
      "cell_type": "code",
      "source": [
        "def der_ReLU(Z):\n",
        "    return Z>0    ## Z>) is a boolean exp. if Z>0 returns 1 which is the derivative when Z>0 , or returns 0 which is the derivative when Z<0"
      ],
      "metadata": {
        "execution": {
          "iopub.status.busy": "2024-10-14T12:26:02.762567Z",
          "iopub.execute_input": "2024-10-14T12:26:02.763028Z",
          "iopub.status.idle": "2024-10-14T12:26:02.772408Z",
          "shell.execute_reply.started": "2024-10-14T12:26:02.762983Z",
          "shell.execute_reply": "2024-10-14T12:26:02.771176Z"
        },
        "trusted": true,
        "id": "r_isWdNiDWzG"
      },
      "execution_count": null,
      "outputs": []
    },
    {
      "cell_type": "code",
      "source": [
        "def backward_propagation(A2,Y,A1,Z1,X,W2):\n",
        "    dZ2=A2-one_hot_encoding(Y)\n",
        "    dW2=1/(Y.size)*dZ2.dot(A1.T)\n",
        "    db2=1/(Y.size)*np.sum(dZ2,2)\n",
        "\n",
        "    dZ1=W2.T .dot(dZ2) * der_ReLU(Z1)\n",
        "    dW1=1/(Y.size)*dZ1.dot(X.T)\n",
        "    db1=1/(Y.size)*np.sum(dZ1)\n",
        "\n",
        "    return dW1,db1,dW2,db2\n",
        ""
      ],
      "metadata": {
        "execution": {
          "iopub.status.busy": "2024-10-14T12:26:02.775139Z",
          "iopub.execute_input": "2024-10-14T12:26:02.77558Z",
          "iopub.status.idle": "2024-10-14T12:26:02.787729Z",
          "shell.execute_reply.started": "2024-10-14T12:26:02.775536Z",
          "shell.execute_reply": "2024-10-14T12:26:02.786389Z"
        },
        "trusted": true,
        "id": "bTihpB5IDWzG"
      },
      "execution_count": null,
      "outputs": []
    },
    {
      "cell_type": "code",
      "source": [
        "def update_params(W1,b1,W2,b2,alpha,dW1,db1,dW2,db2):\n",
        "\n",
        "    W1=W1-alpha*dW1\n",
        "    b1=b1-alpha*db1\n",
        "    W2=W2-alpha*dW2\n",
        "    b2=b2-alpha*db2\n",
        "    return W1,b1,W2,b2"
      ],
      "metadata": {
        "execution": {
          "iopub.status.busy": "2024-10-14T12:26:02.789488Z",
          "iopub.execute_input": "2024-10-14T12:26:02.790037Z",
          "iopub.status.idle": "2024-10-14T12:26:02.799119Z",
          "shell.execute_reply.started": "2024-10-14T12:26:02.789934Z",
          "shell.execute_reply": "2024-10-14T12:26:02.797859Z"
        },
        "trusted": true,
        "id": "z1a0zbQuDWzG"
      },
      "execution_count": null,
      "outputs": []
    },
    {
      "cell_type": "code",
      "source": [
        "def get_predictions(A2):\n",
        "    return np.argmax(A2,0)\n",
        "\n",
        "def get_accuracy(predictions,Y):\n",
        "    return np.sum(predictions==Y)/Y.size"
      ],
      "metadata": {
        "execution": {
          "iopub.status.busy": "2024-10-14T12:26:02.80072Z",
          "iopub.execute_input": "2024-10-14T12:26:02.801172Z",
          "iopub.status.idle": "2024-10-14T12:26:02.810682Z",
          "shell.execute_reply.started": "2024-10-14T12:26:02.80113Z",
          "shell.execute_reply": "2024-10-14T12:26:02.809369Z"
        },
        "trusted": true,
        "id": "T8IQmWZkDWzG"
      },
      "execution_count": null,
      "outputs": []
    },
    {
      "cell_type": "code",
      "source": [
        "def gradient_descent(X,Y,iterations,alpha):\n",
        "    W1,b1,W2,b2=init_params()\n",
        "\n",
        "    for i in range(iterations):\n",
        "        Z1,A1,Z2,A2=forward_propagation(W1,X,b1,W2,b2)\n",
        "        dW1,db1,dW2,db2=backward_propagation(A2,Y,A1,Z1,X,W2)\n",
        "        W1,b1,W2,b2=update_params(W1,b1,W2,b2,alpha,dW1,db1,dW2,db2)\n",
        "        if(i%100==0):\n",
        "            print(\"Iteration :\",i)\n",
        "            print(\"Accuracy :\",get_accuracy(get_predictions(A2),Y))\n",
        "\n",
        "\n",
        "\n",
        "\n",
        "    return W1,b1,W2,b2"
      ],
      "metadata": {
        "execution": {
          "iopub.status.busy": "2024-10-14T12:26:02.812279Z",
          "iopub.execute_input": "2024-10-14T12:26:02.813146Z",
          "iopub.status.idle": "2024-10-14T12:26:02.823121Z",
          "shell.execute_reply.started": "2024-10-14T12:26:02.813087Z",
          "shell.execute_reply": "2024-10-14T12:26:02.821925Z"
        },
        "trusted": true,
        "id": "MsruztYlDWzH"
      },
      "execution_count": null,
      "outputs": []
    },
    {
      "cell_type": "code",
      "source": [
        "W1,b1,W2,b2=gradient_descent(X_train,Y_train,1000,0.1)"
      ],
      "metadata": {
        "execution": {
          "iopub.status.busy": "2024-10-14T12:26:02.824615Z",
          "iopub.execute_input": "2024-10-14T12:26:02.825033Z",
          "iopub.status.idle": "2024-10-14T12:32:34.011244Z",
          "shell.execute_reply.started": "2024-10-14T12:26:02.824986Z",
          "shell.execute_reply": "2024-10-14T12:32:34.009594Z"
        },
        "trusted": true,
        "id": "yeqmfuy2DWzH"
      },
      "execution_count": null,
      "outputs": []
    },
    {
      "cell_type": "code",
      "source": [],
      "metadata": {
        "id": "BpFiDGyUDWzH"
      },
      "execution_count": null,
      "outputs": []
    }
  ]
}